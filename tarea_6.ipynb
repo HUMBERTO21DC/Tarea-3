{
  "cells": [
    {
      "cell_type": "markdown",
      "metadata": {
        "id": "view-in-github",
        "colab_type": "text"
      },
      "source": [
        "<a href=\"https://colab.research.google.com/github/HUMBERTO21DC/Tarea-3/blob/main/tarea_6.ipynb\" target=\"_parent\"><img src=\"https://colab.research.google.com/assets/colab-badge.svg\" alt=\"Open In Colab\"/></a>"
      ]
    },
    {
      "cell_type": "markdown",
      "metadata": {
        "id": "lGBNnrWs_B_w"
      },
      "source": [
        "2-\n"
      ]
    },
    {
      "cell_type": "markdown",
      "metadata": {
        "id": "qS31pici_P6a"
      },
      "source": [
        "$dT/dt=k(T-Tm)$"
      ]
    },
    {
      "cell_type": "markdown",
      "source": [
        "Planteo la ecuacion diferencial"
      ],
      "metadata": {
        "id": "8nqxJK9z8MXY"
      }
    },
    {
      "cell_type": "code",
      "execution_count": 1,
      "metadata": {
        "colab": {
          "base_uri": "https://localhost:8080/",
          "height": 52
        },
        "id": "qb0QlrFX-7DX",
        "outputId": "0d96eccc-fb70-464c-a0ca-b3fe8d10f56f"
      },
      "outputs": [
        {
          "output_type": "execute_result",
          "data": {
            "text/plain": [
              "Eq(Derivative(T(t), t), k*(T(t) - 70))"
            ],
            "text/latex": "$\\displaystyle \\frac{d}{d t} T{\\left(t \\right)} = k \\left(T{\\left(t \\right)} - 70\\right)$"
          },
          "metadata": {},
          "execution_count": 1
        }
      ],
      "source": [
        "from sympy import *\n",
        "import sympy\n",
        "from sympy import symbols, Eq, diff\n",
        "\n",
        "t = symbols('t')\n",
        "T = Function ('T')\n",
        "k = symbols('k')\n",
        "Tm = 70\n",
        "\n",
        "ED = Eq(diff(T(t), t, 1), k*(T(t) - Tm))\n",
        "\n",
        "ED"
      ]
    },
    {
      "cell_type": "markdown",
      "source": [
        "Resuelvo la ecuacion diferencial"
      ],
      "metadata": {
        "id": "t4keio5G8RfU"
      }
    },
    {
      "cell_type": "code",
      "execution_count": 2,
      "metadata": {
        "colab": {
          "base_uri": "https://localhost:8080/",
          "height": 39
        },
        "id": "DrubRH9B_e2G",
        "outputId": "9be5bb59-5e82-47b4-a493-05917ba1d0e9"
      },
      "outputs": [
        {
          "output_type": "execute_result",
          "data": {
            "text/plain": [
              "Eq(T(t), C1*exp(k*t) + 70)"
            ],
            "text/latex": "$\\displaystyle T{\\left(t \\right)} = C_{1} e^{k t} + 70$"
          },
          "metadata": {},
          "execution_count": 2
        }
      ],
      "source": [
        "dsolve(ED)"
      ]
    },
    {
      "cell_type": "markdown",
      "source": [
        "Busco la ecuacion particular de la condicion T(0)=300"
      ],
      "metadata": {
        "id": "HyTquJVb8VSt"
      }
    },
    {
      "cell_type": "markdown",
      "metadata": {
        "id": "5T1_h9jm_jly"
      },
      "source": [
        "$dT/dt=k(T-Tm) ;\\quad T(0)=300$"
      ]
    },
    {
      "cell_type": "code",
      "execution_count": 3,
      "metadata": {
        "colab": {
          "base_uri": "https://localhost:8080/",
          "height": 39
        },
        "id": "eHmEmvSL_hc8",
        "outputId": "0576d509-308b-4c53-bc2b-e1236e620aad"
      },
      "outputs": [
        {
          "output_type": "execute_result",
          "data": {
            "text/plain": [
              "Eq(T(t), 230*exp(k*t) + 70)"
            ],
            "text/latex": "$\\displaystyle T{\\left(t \\right)} = 230 e^{k t} + 70$"
          },
          "metadata": {},
          "execution_count": 3
        }
      ],
      "source": [
        "dsolve(ED,ics={T(0):300})"
      ]
    },
    {
      "cell_type": "markdown",
      "source": [
        "Sustitulo la constante obtenida y con la otra condicion de T(3)=200 busco k"
      ],
      "metadata": {
        "id": "XrYbzqs38feE"
      }
    },
    {
      "cell_type": "code",
      "execution_count": 4,
      "metadata": {
        "colab": {
          "base_uri": "https://localhost:8080/",
          "height": 39
        },
        "id": "3o78L5XH_n44",
        "outputId": "093cc11e-d142-4d86-837b-0b92fa72d2d7"
      },
      "outputs": [
        {
          "output_type": "execute_result",
          "data": {
            "text/plain": [
              "Eq(T(t), 230*exp(k*t) + 70)"
            ],
            "text/latex": "$\\displaystyle T{\\left(t \\right)} = 230 e^{k t} + 70$"
          },
          "metadata": {},
          "execution_count": 4
        }
      ],
      "source": [
        "import math\n",
        "import sympy\n",
        "k = sympy.Symbol('k')\n",
        "t = symbols('t')\n",
        "T = Function('T')\n",
        "\n",
        "ED1=sympy.Eq(T(t),230*sympy.exp (k*t)+70)\n",
        "\n",
        "ED1"
      ]
    },
    {
      "cell_type": "code",
      "execution_count": 5,
      "metadata": {
        "id": "JxEZP71V_qZp",
        "colab": {
          "base_uri": "https://localhost:8080/"
        },
        "outputId": "af8f5ecb-593f-4727-cbe5-17aa073a8db7"
      },
      "outputs": [
        {
          "output_type": "execute_result",
          "data": {
            "text/plain": [
              "[log(T(t)/230 - 7/23)/t]"
            ]
          },
          "metadata": {},
          "execution_count": 5
        }
      ],
      "source": [
        "solve(ED1,k)"
      ]
    },
    {
      "cell_type": "code",
      "source": [
        "K=(math.log(200/230-7/23))/3\n",
        "K"
      ],
      "metadata": {
        "colab": {
          "base_uri": "https://localhost:8080/"
        },
        "id": "pJ0fAfWVq04Y",
        "outputId": "ad80d621-fbeb-4815-ce5f-88eda6261344"
      },
      "execution_count": 6,
      "outputs": [
        {
          "output_type": "execute_result",
          "data": {
            "text/plain": [
              "-0.19018161948920434"
            ]
          },
          "metadata": {},
          "execution_count": 6
        }
      ]
    },
    {
      "cell_type": "markdown",
      "source": [
        "Planteo la ecuacion particular y grafico para ver donde alcanza 70°F"
      ],
      "metadata": {
        "id": "K0nGUbhj8r38"
      }
    },
    {
      "cell_type": "code",
      "source": [
        "ED2=sympy.Eq(T(t),230*sympy.exp (K*t)+70)\n",
        "ED2"
      ],
      "metadata": {
        "colab": {
          "base_uri": "https://localhost:8080/",
          "height": 38
        },
        "id": "ui1tsNrzrkJW",
        "outputId": "7fb7372b-11f9-4ec3-d719-ab15ac15e418"
      },
      "execution_count": 7,
      "outputs": [
        {
          "output_type": "execute_result",
          "data": {
            "text/plain": [
              "Eq(T(t), 70 + 230*exp(-0.190181619489204*t))"
            ],
            "text/latex": "$\\displaystyle T{\\left(t \\right)} = 70 + 230 e^{- 0.190181619489204 t}$"
          },
          "metadata": {},
          "execution_count": 7
        }
      ]
    },
    {
      "cell_type": "code",
      "source": [
        "import numpy as np\n",
        "import matplotlib.pyplot as plt\n",
        "from math import exp\n",
        "\n",
        "x_valores = np.arange(0,50)\n",
        "y_valores = 230*np.exp (-0.19018161948920434*(x_valores))+70\n",
        "\n",
        "plt.plot(x_valores, y_valores, color='blue', label='T(t) vs t')\n",
        "plt.xlabel('tiempo (min)')\n",
        "plt.ylabel('Temperatura (F)')\n",
        "plt.title ('T(x) vs t')\n",
        "plt.axhline (70, color='black')\n",
        "plt.axvline (30, color='black')\n",
        "plt.annotate ('Despues de 30 min el pastel se enfria hasta 70° F', xy=(30,70))\n",
        "plt.show\n",
        "\n",
        "\n"
      ],
      "metadata": {
        "colab": {
          "base_uri": "https://localhost:8080/",
          "height": 489
        },
        "id": "USrYVrKbsZRX",
        "outputId": "44212781-5964-4fd5-94a3-e0bdde61145a"
      },
      "execution_count": 8,
      "outputs": [
        {
          "output_type": "execute_result",
          "data": {
            "text/plain": [
              "<function matplotlib.pyplot.show(close=None, block=None)>"
            ]
          },
          "metadata": {},
          "execution_count": 8
        },
        {
          "output_type": "display_data",
          "data": {
            "text/plain": [
              "<Figure size 640x480 with 1 Axes>"
            ],
            "image/png": "[encoded data removed]"
          },
          "metadata": {}
        }
      ]
    },
    {
      "cell_type": "markdown",
      "metadata": {
        "id": "EtAsw8uoAXnA"
      },
      "source": [
        "3-\n"
      ]
    },
    {
      "cell_type": "markdown",
      "metadata": {
        "id": "LptMf86JAaOZ"
      },
      "source": [
        "\n",
        "$dx/dt=x(1-0.1x-0.05y)$\n",
        "\n",
        "$dy/dt=y(1.7-0.1y-0.15x)$\n"
      ]
    },
    {
      "cell_type": "markdown",
      "metadata": {
        "id": "M4cHvlCmBQWH"
      },
      "source": [
        "a) $x(0)=1.1, y(0)=1$\n",
        "\n",
        "b) $x(0)=4, y(0)=10$"
      ]
    },
    {
      "cell_type": "code",
      "source": [
        "import scipy.integrate as spi\n",
        "import numpy as np"
      ],
      "metadata": {
        "id": "pWEOg1YWIwB2"
      },
      "execution_count": 10,
      "outputs": []
    },
    {
      "cell_type": "code",
      "source": [
        "def modelo_competencia(poblaciones, tiempo):\n",
        "\n",
        "    x = poblaciones[0]\n",
        "    y = poblaciones[1]\n",
        "    # Defino los parámetros del modelo\n",
        "    a = 0.1 # Tasa de crecimiento de x\n",
        "    b = 0.05 # Tasa de competencia de y sobre x\n",
        "    c = 0.1 # Tasa de crecimiento de y\n",
        "    d = 0.15 # Tasa de competencia de x sobre y\n",
        "    # Calculo las derivadas de x e y\n",
        "    dxdt = x * (1 - a * x - b * y)\n",
        "    dydt = y * (1 - c * y - d * x)\n",
        "\n",
        "    return [dxdt, dydt]"
      ],
      "metadata": {
        "id": "AlH3VHz-JBdd"
      },
      "execution_count": 20,
      "outputs": []
    },
    {
      "cell_type": "markdown",
      "source": [
        "Defino las condiciones iniciales y los valores de tiempo para el caso a"
      ],
      "metadata": {
        "id": "QUqnXRQRKOd0"
      }
    },
    {
      "cell_type": "code",
      "source": [
        "\n",
        "poblaciones_iniciales_a = [1.1, 1]\n",
        "tiempo_a = np.linspace(0, 50, 100)"
      ],
      "metadata": {
        "id": "B048KYhCJL85"
      },
      "execution_count": 21,
      "outputs": []
    },
    {
      "cell_type": "markdown",
      "source": [
        "Resuelvo y extraigo las soluciones de x e y para el caso a"
      ],
      "metadata": {
        "id": "u4OIhiTBLDSQ"
      }
    },
    {
      "cell_type": "code",
      "source": [
        "solucion_a = spi.odeint(modelo_competencia, poblaciones_iniciales_a, tiempo_a)\n",
        "\n",
        "x_a = solucion_a[:, 0]\n",
        "y_a = solucion_a[:, 1]"
      ],
      "metadata": {
        "id": "5Ar6Rcs4LA9r"
      },
      "execution_count": 22,
      "outputs": []
    },
    {
      "cell_type": "markdown",
      "source": [
        "Defino las condiciones iniciales y los valores de tiempo para el caso b"
      ],
      "metadata": {
        "id": "ONtAnNAlLLOE"
      }
    },
    {
      "cell_type": "code",
      "source": [
        "\n",
        "poblaciones_iniciales_b = [4, 10]\n",
        "tiempo_b = np.linspace(0, 50, 100)\n",
        "\n"
      ],
      "metadata": {
        "id": "hArNtXALJaap"
      },
      "execution_count": 24,
      "outputs": []
    },
    {
      "cell_type": "markdown",
      "source": [
        "Resuelvo y extraigo las soluciones de x e y para el caso b"
      ],
      "metadata": {
        "id": "5itR_nbsLTX6"
      }
    },
    {
      "cell_type": "code",
      "source": [
        "solucion_b = spi.odeint(modelo_competencia, poblaciones_iniciales_b, tiempo_b)\n",
        "\n",
        "x_b = solucion_b[:, 0]\n",
        "y_b = solucion_b[:, 1]"
      ],
      "metadata": {
        "id": "-H-FTV3zLV0K"
      },
      "execution_count": 23,
      "outputs": []
    },
    {
      "cell_type": "markdown",
      "source": [
        "Grafico las soluciones de los dos casos"
      ],
      "metadata": {
        "id": "W1dcH7K3LfSp"
      }
    },
    {
      "cell_type": "code",
      "source": [
        "import matplotlib.pyplot as plt\n",
        "\n",
        "\n",
        "fig, (ax1, ax2) = plt.subplots(1, 2, figsize=(12, 6))\n",
        "\n",
        "ax1.plot(tiempo_a, x_a, label=\"x(t)\")\n",
        "ax1.plot(tiempo_a, y_a, label=\"y(t)\")\n",
        "ax1.set_title(\"Caso a: x(0) = 1.1, y(0) = 1\")\n",
        "ax1.set_xlabel(\"Tiempo (años)\")\n",
        "ax1.set_ylabel(\"Población (miles)\")\n",
        "ax1.legend()\n",
        "\n",
        "ax2.plot(tiempo_b, x_b, label=\"x(t)\")\n",
        "ax2.plot(tiempo_b, y_b, label=\"y(t)\")\n",
        "ax2.set_title(\"Caso b: x(0) = 4, y(0) = 10\")\n",
        "ax2.set_xlabel(\"Tiempo (años)\")\n",
        "ax2.set_ylabel(\"Población (miles)\")\n",
        "ax2.legend()\n",
        "\n",
        "plt.show()\n"
      ],
      "metadata": {
        "colab": {
          "base_uri": "https://localhost:8080/",
          "height": 564
        },
        "id": "fR_9V2u5Jdi1",
        "outputId": "93e74d35-e51d-4ed5-fb6f-7741b8077380"
      },
      "execution_count": 30,
      "outputs": [
        {
          "output_type": "display_data",
          "data": {
            "text/plain": [
              "<Figure size 1200x600 with 2 Axes>"
            ],
            "image/png": "[encoded data removed]"
          },
          "metadata": {}
        }
      ]
    }
  ],
  "metadata": {
    "colab": {
      "provenance": [],
      "include_colab_link": true
    },
    "kernelspec": {
      "display_name": "Python 3",
      "name": "python3"
    },
    "language_info": {
      "name": "python"
    }
  },
  "nbformat": 4,
  "nbformat_minor": 0
}