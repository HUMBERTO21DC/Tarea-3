{
  "nbformat": 4,
  "nbformat_minor": 0,
  "metadata": {
    "colab": {
      "provenance": [],
      "authorship_tag": "ABX9TyMNc/UCZ5sbBll7vX5S+XVa",
      "include_colab_link": true
    },
    "kernelspec": {
      "name": "python3",
      "display_name": "Python 3"
    },
    "language_info": {
      "name": "python"
    }
  },
  "cells": [
    {
      "cell_type": "markdown",
      "metadata": {
        "id": "view-in-github",
        "colab_type": "text"
      },
      "source": [
        "<a href=\"https://colab.research.google.com/github/HUMBERTO21DC/Tarea-3/blob/main/TAREA_3.ipynb\" target=\"_parent\"><img src=\"https://colab.research.google.com/assets/colab-badge.svg\" alt=\"Open In Colab\"/></a>"
      ]
    },
    {
      "cell_type": "markdown",
      "source": [
        "1-"
      ],
      "metadata": {
        "id": "NEbh0xkSva_E"
      }
    },
    {
      "cell_type": "code",
      "source": [
        "import math\n",
        "\n",
        "print(\"Bienvenido al programa para calcular el pH partiendo de la solucion de iones de Hidrógenos\".upper())\n",
        "\n",
        "print(\"NOTA: Si desea utilizar un número expresado en notacion cientifica coloque e en lugar del 10 (Ejemplo: en vez de 1.10^+3 o 1,5.10^-3 coloque 1.5e+3 o 1.5e-3)\")\n",
        "\n",
        "OPERADOR=input(\"Ingrese la concentracion molar de iones de hidrógeno:\")\n",
        "\n",
        "numero=float(OPERADOR)\n",
        "\n",
        "if numero > 0:\n",
        "    pH = math.log10(numero)*(-1)\n",
        "    print(f\"El pH de una concentracion {OPERADOR} molar de Hidrógeno es {pH}\")\n",
        "\n",
        "elif numero <= 0:\n",
        "    print(\"Ingrese una concentracion de hidrógeno real\")"
      ],
      "metadata": {
        "id": "ReS9DBjJvWMc"
      },
      "execution_count": null,
      "outputs": []
    },
    {
      "cell_type": "markdown",
      "source": [
        "2-"
      ],
      "metadata": {
        "id": "z0xZFZMGvr33"
      }
    },
    {
      "cell_type": "code",
      "source": [
        "print(\"Bienvenido al programa para calcular el numero de moles de cualcuer compuesto\".upper())\n",
        "\n",
        "print (\"Para calcular el número de moles primero se debe conocer el peso molecular del compuesto y por eso se pregunta\")\n",
        "\n",
        "peso_molecular = float (input(\"¿Cual es el peso molecular del cumpuesto cuyos moles desea conocer?(responda con un numero):\"))\n",
        "\n",
        "gramos=float(input(\"inserte los gramos del compuesto que desee calcular su numero de moles (Hacerlo con un numero sin la unidad):\"))\n",
        "\n",
        "moles=gramos/peso_molecular\n",
        "\n",
        "print(f\"El compuesto de {gramos} gramos con un peso molecular {peso_molecular} gramos/mol tiene {moles} moles\")"
      ],
      "metadata": {
        "id": "8O5UX0NKvipM"
      },
      "execution_count": null,
      "outputs": []
    },
    {
      "cell_type": "markdown",
      "source": [
        "3-"
      ],
      "metadata": {
        "id": "hk34RxYzwB6E"
      }
    },
    {
      "cell_type": "code",
      "source": [
        "print(\"Bienvenido al programa para calcular la concentracion molar de cualquier compuesto\".upper())\n",
        "\n",
        "print(\"La molaridad se define como el numero de moles entre litros de solucion. Por lo que necesitara estos datos para calcularla.\")\n",
        "\n",
        "moles=float(input(\"Ingrese el numero de moles que tiene al compuesto cuya concentracion desea conocer:\"))\n",
        "\n",
        "if moles > 0:\n",
        "    litros = float(input(\"Ingrese los litros de solucion que contenga el compuesto cuya concentrcion desea conocer:\"))\n",
        "elif moles < 0:\n",
        "    print(\"Ingrese un numero de moles real.\")\n",
        "if litros > 0:\n",
        "    concentración = moles / litros\n",
        "elif litros < 0:\n",
        "    print(\"Ingrese una cantidad de litros real.\")\n",
        "\n",
        "print(f\"La concentración molar de {moles} moles en {litros} litros de solucion es {concentración} molar.\")"
      ],
      "metadata": {
        "id": "SaFV5liSwNfZ"
      },
      "execution_count": null,
      "outputs": []
    },
    {
      "cell_type": "markdown",
      "source": [
        "4-"
      ],
      "metadata": {
        "id": "pgNbgPMRwSpT"
      }
    },
    {
      "cell_type": "code",
      "source": [
        "print(\"Bienvenido al programa para calcular el redimiento de una reaccion partiendo del valor real y el teórico.\".upper())\n",
        "\n",
        "teorico= float(input(\"Ingrese el rendimiento teórico de la reacción (cantidad del produccto que se obtendra [hacerlo solo en valor numerico sin la unidad]):\"))\n",
        "\n",
        "experimental=float(input(\"Ingrese el redimiento experimental de la reacción(cantidad del produccto que se obtendra [hacerlo solo en valor numerico sin la unidad]):\"))\n",
        "\n",
        "rendimiento=(teorico/experimental)*100\n",
        "\n",
        "print(f\"El porcentaje de la reaccion es {rendimiento} %\")"
      ],
      "metadata": {
        "id": "KTdzCZBwwVtT"
      },
      "execution_count": null,
      "outputs": []
    },
    {
      "cell_type": "markdown",
      "source": [
        "5-"
      ],
      "metadata": {
        "id": "BLvK-r63wgKQ"
      }
    },
    {
      "cell_type": "code",
      "source": [
        "import math\n",
        "\n",
        "print(\"Bienvenido al programa para calcula el pH de una solución tapón a partir de la concentracion del ácido debil y su base conjugada\".upper())\n",
        "\n",
        "print(\"NOTA: Si desea utilizar un número expresado en notacion cientifica coloque e en lugar del 10 (Ejemplo: en vez de 1.10^+3 o 1,5.10^-3 coloque 1.5e+3 o 1.5e-3)\")\n",
        "\n",
        "acido=float(input(\"Ingrese la concentración del ácido debil sin la unidad:\"))\n",
        "\n",
        "base=float(input(\"Ingrese la concentración de la base conjugada sin la unidad:\"))\n",
        "\n",
        "constante=float(input(\"Ingrese el pKa correspondiente al acido debil:\"))\n",
        "\n",
        "pH= constante + math.log10(base/acido)\n",
        "\n",
        "print(f\"El pH de la solución tapón es {pH}\")"
      ],
      "metadata": {
        "id": "355LbofPwhWE"
      },
      "execution_count": null,
      "outputs": []
    },
    {
      "cell_type": "markdown",
      "source": [
        "6-"
      ],
      "metadata": {
        "id": "LnDPMIZMwnlr"
      }
    },
    {
      "cell_type": "code",
      "source": [
        "import math\n",
        "\n",
        "print(\"Bienvenido al programa para determinar la solubilidad de una sal a partir del kps\".upper())\n",
        "\n",
        "kps= float(input(\"indique el kps de la sal que desea saber si es soluble o no:\"))\n",
        "\n",
        "print(\"NOTA: Todas las sales son solubles, solo que algunas son tan pocas solubles, que se denominan coliquialmente insolubles. Por eso se asume que la sal se disuelve en la siguientes preguntas\")\n",
        "\n",
        "anion = float(input(\"Indique la carga del anión que se formara al disolverse la sal:\"))\n",
        "\n",
        "cation=float(input(\"Indique la carga del catión que se formara al disolverse la sal:\"))\n",
        "\n",
        "indice= anion+cation\n",
        "\n",
        "def raiz(indice,kps):\n",
        "    return pow(kps, 1/indice)\n",
        "\n",
        "if raiz(indice,kps) > 0.02:\n",
        "    print(\"La sal es soluble\")\n",
        "elif raiz(indice,kps) < 0.02:\n",
        "    print(\"La sal es insoluble\")\n",
        "else:\n",
        "    raiz(indice,kps) == 0.02\n",
        "    print(\"La sal es poco soluble\")"
      ],
      "metadata": {
        "id": "KKJ6IGxIwq9L"
      },
      "execution_count": null,
      "outputs": []
    },
    {
      "cell_type": "markdown",
      "source": [
        "7-"
      ],
      "metadata": {
        "id": "pLotL7iCwvMD"
      }
    },
    {
      "cell_type": "code",
      "source": [
        "nota = int(input(\"Indique nota del alumno:\"))\n",
        "if nota >=85:\n",
        "    print(\"sobresaliente\")\n",
        "elif nota >=50:\n",
        "    print(\"aprobado\")\n",
        "else:\n",
        "    print(\"reprobado\")\n"
      ],
      "metadata": {
        "id": "A13Ac831wwTa"
      },
      "execution_count": null,
      "outputs": []
    },
    {
      "cell_type": "markdown",
      "source": [
        "8-"
      ],
      "metadata": {
        "id": "ns3GWwzZw1HT"
      }
    },
    {
      "cell_type": "code",
      "source": [
        "print(\"Bienvenido al programa para calcular el seno y coseno sin usar el modulo math\".upper())\n",
        "\n",
        "print(\"Para calcular el seno y coseno sin usar el modulo math se utiliza la serie de Tylor correspondiente a cada funcion, por lo que se aproximara al valor del seno y coseno con el numero de repeticiones de la serie. En este programa se consideran 10 repeticiones\")\n",
        "\n",
        "n=10\n",
        "\n",
        "def factorial(n):\n",
        "   if n == 0:\n",
        "     return 1\n",
        "   else:\n",
        "     return n * factorial(n-1)\n",
        "\n",
        "x=int(input(\"Ingrese el angulo que deseé sacarle el seno con la serie de tylor:\"))\n",
        "\n",
        "pi=3.14159265359\n",
        "\n",
        "radianes = x * pi / 180\n",
        "\n",
        "def sen_tylor(x,n):\n",
        "   sen_tylor= 0\n",
        "   for n in range(0,n):\n",
        "    sen_tylor+= (-1)**n * radianes**(2 * n + 1) / factorial(2 * n + 1)\n",
        "   return sen_tylor\n",
        "\n",
        "print(f\"El seno de {x} grados determinado para una serie de tylor con {n} repeticiones es {sen_tylor(x,n)}\")\n",
        "\n",
        "def cos_tylor (x,n):\n",
        "   cos_tylor=0\n",
        "   for n in range(0,n):\n",
        "    cos_tylor+=(((-1)**n )* (radianes**(2 * n))) / factorial(2 * n )\n",
        "   return cos_tylor\n",
        "\n",
        "print(f\"El coseno de {x} grados determinado para una serie de tylor con {n} repeticiones es {cos_tylor(x,n)}\")\n",
        "\n",
        "import math\n",
        "\n",
        "seno=math.sin(radianes)\n",
        "coseno=math.cos(radianes)\n",
        "\n",
        "print(f\"El seno de {x} determinado por el modulo math es {seno}\")\n",
        "print(f\"El coseno de {x} determinado por el modulo math es {coseno}\")\n"
      ],
      "metadata": {
        "id": "O2SUBdeDw2EL"
      },
      "execution_count": null,
      "outputs": []
    },
    {
      "cell_type": "markdown",
      "source": [
        "9-"
      ],
      "metadata": {
        "id": "MStPRDnhw2ba"
      }
    },
    {
      "cell_type": "code",
      "source": [
        "import math\n",
        "\n",
        "print(\"bienvenido al programa para saber si el seno y coseno son iguales\".upper())\n",
        "\n",
        "x=input(\"Ingrese el agulo que desee saber si al evaluarlo en el seno y en el coseno el resultado de ambas funciones son aproximadamente iguales:\")\n",
        "\n",
        "y=math.radians(float(x))\n",
        "\n",
        "if abs(math.sin(y)- math.cos(y)) < 1e-100:\n",
        "    print(f\"El seno y coseno en {x} grados son aproximadamente iguales\")\n",
        "else:\n",
        "    print(f\"El seno y coseno en {x} son diferentes\")"
      ],
      "metadata": {
        "id": "LcVoWzcow3Zz"
      },
      "execution_count": null,
      "outputs": []
    }
  ]
}